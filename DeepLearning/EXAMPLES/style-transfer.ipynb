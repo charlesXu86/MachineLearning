{
 "cells": [
  {
   "cell_type": "code",
   "execution_count": null,
   "metadata": {
    "collapsed": true
   },
   "outputs": [],
   "source": [
    "import os\n",
    "from six.moves import urllib\n",
    "from scipy.io import loadmat\n",
    "import tensorflow as tf\n",
    "import matplotlib.pyplot as plt\n",
    "from scipy.misc import imresize\n",
    "%matplotlib inline\n",
    "\n",
    "def download_hook(count, block_size, total_size):\n",
    "    if count % 20 == 0 or count * block_size == total_size:\n",
    "        percentage = 100.0 * count * block_size / total_size\n",
    "        barstring = [\"=\" for _ in range(int(percentage / 2.0))] + [\",\" for _ in range(50 - int(percentage / 2.0))]\n",
    "        barstring = \"[\" + \"\".join(barstring) + \"]\"\n",
    "        outstring = '%02.02f%% (%02.02f of %02.02f MB)\\t\\t' + barstring\n",
    "        print(outstring % (percentage, count * block_size / 1024.0 / 1024.0, total_size / 1024.0 / 1024.0), end='\\r')"
   ]
  },
  {
   "cell_type": "code",
   "execution_count": 4,
   "metadata": {},
   "outputs": [
    {
     "name": "stdout",
     "output_type": "stream",
     "text": [
      "aaaaa\n"
     ]
    }
   ],
   "source": [
    "path = \"http://www.vlfeat.org/matconvnet/models/imagenet-vgg-verydeep-19.mat\"\n",
    "fname = \"vgg-19.mat\"\n",
    "if not os.path.exists(fname):\n",
    "    print(\"Downloading ...\")\n",
    "    filepath, _ = urllib.request.urlretrieve(path, filename=fname, reporthook=download_hook)\n",
    "    print(\"Done.\")\n",
    "\n",
    "if not os.path.exists(\"content.jpg\"):\n",
    "    urllib.request.urlretrieve(\n",
    "        \"https://upload.wikimedia.org/wikipedia/commons/6/6b/Donald_Trump_by_Gage_Skidmore_5.jpg\",\n",
    "        filename=\"content.jpg\")  # Attribution: Gage Skidmore\n",
    "    urllib.request.urlretrieve(\"https://upload.wikimedia.org/wikipedia/commons/e/e8/Indischer_Maler_um_1690_001.jpg\",\n",
    "                               filename=\"style.jpg\")"
   ]
  },
  {
   "cell_type": "code",
   "execution_count": null,
   "metadata": {},
   "outputs": [],
   "source": [
    "original_layers = loadmat(fname)[\"layers\"](0)\n",
    "original_layers.shape"
   ]
  }
 ],
 "metadata": {
  "kernelspec": {
   "display_name": "Python 2",
   "language": "python",
   "name": "python2"
  },
  "language_info": {
   "codemirror_mode": {
    "name": "ipython",
    "version": 2
   },
   "file_extension": ".py",
   "mimetype": "text/x-python",
   "name": "python",
   "nbconvert_exporter": "python",
   "pygments_lexer": "ipython2",
   "version": "2.7.6"
  }
 },
 "nbformat": 4,
 "nbformat_minor": 0
}
