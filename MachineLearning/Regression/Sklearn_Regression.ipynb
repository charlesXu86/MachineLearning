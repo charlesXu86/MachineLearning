{
 "cells": [
  {
   "cell_type": "markdown",
   "metadata": {
    "collapsed": true
   },
   "source": [
    "# Sklearn\n",
    "## 第二章 处理线性模型\n",
    "* 线性回归模型\n",
    "* 评估线性回归模型\n",
    "* 用岭回归弥补线性回归的不足\n",
    "* LASSO正则化\n",
    "* LARS正则化\n",
    "* 用线性方法处理分类问题-逻辑斯蒂回归\n",
    "* 贝叶斯岭回归\n",
    "* 用梯度提升回归从误差中学习"
   ]
  },
  {
   "cell_type": "code",
   "execution_count": null,
   "metadata": {},
   "outputs": [],
   "source": [
    "import sklearn.datasets as ds\n",
    "from sklearn import linear_model\n",
    "from sklearn.metrics import LinearRegression\n",
    "boston = ds.load_boston()"
   ]
  }
 ],
 "metadata": {
  "kernelspec": {
   "display_name": "Python 2",
   "language": "python",
   "name": "python2"
  },
  "language_info": {
   "codemirror_mode": {
    "name": "ipython",
    "version": 2
   },
   "file_extension": ".py",
   "mimetype": "text/x-python",
   "name": "python",
   "nbconvert_exporter": "python",
   "pygments_lexer": "ipython2",
   "version": "2.7.6"
  }
 },
 "nbformat": 4,
 "nbformat_minor": 0
}
